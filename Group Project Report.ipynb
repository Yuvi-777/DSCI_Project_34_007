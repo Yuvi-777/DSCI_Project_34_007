{
 "cells": [
  {
   "cell_type": "markdown",
   "id": "b12b90b1-7f57-46f0-bdca-3960239545ea",
   "metadata": {},
   "source": [
    "# Group Project Report"
   ]
  },
  {
   "cell_type": "markdown",
   "id": "cfc7e755-6761-4ca6-a27e-6553d5b49dec",
   "metadata": {},
   "source": [
    "## Introduction"
   ]
  },
  {
   "cell_type": "markdown",
   "id": "e7795646-135a-41f9-89cd-7126aca46dc2",
   "metadata": {},
   "source": [
    "Heart disease is increasingly common and one of the leading causes of death around the world. As algorithms and modeling become more accessible and sophisticated, they can be used to predict and diagnose heart disease. Here, we will create a simple model using the k-nearest neighbors algorithm to predict the type of chest pain in individuals testing for heart disease. We will investigate how accurately we can predict the type of chest pain with a K-nearest Neighbor model? \n",
    "\n",
    "The dataset we will use is called “processed.cleveland.data” from the Machine Learning Repository. Data was collected between May 1981 and September 1984 and stems from the angiography results of 303 patients at the Cleveland Clinic in Cleveland, Ohio. The average age of study participants was 54 and 206 of the 303 participants were men (“International application of a new probability algorithm”). Similar algorithms have been created like the one described in Detrano et al.’s International Application of a New Probability Algorithm for the Diagnosis of Coronary Artery Disease where the same data set, along with similar ones, trained an algorithm to predict heart disease. \n"
   ]
  },
  {
   "cell_type": "markdown",
   "id": "ddbcff36-9ef6-4916-82a1-27a50e9a5f9a",
   "metadata": {},
   "source": [
    "## Methods and Results"
   ]
  },
  {
   "cell_type": "markdown",
   "id": "56b6ec88-387a-4545-95ce-dbfceaa35301",
   "metadata": {},
   "source": [
    "As mentioned previously, we will develop a model using this dataset to predict the type of chest pain that an individual is experiencing. The potential types of chest pain are typical angina, atypical angina, non-anginal pain, and asymptomatic pain. Our model will use the k-nearest neighbors algorithm and consider age, sex, electrocardiogram rate at rest (restecg), systolic blood pressure (trestbps), and cholesterol (chol) as variables. Age and sex were chosen because women report a greater risk of developing CVD than men of the same age group; however, the risk of developing CVD increases with age in both sexes (Rodgers et al., 2019). The American Heart Association reported that in the US, the likelihood of developing CVD for men and women between the ages of 40-59 is ~40%, between 60-79 years is ~75%, and above the age of 80, the likelihood increased to ~86%. By incorporating age and sex, we can better estimate an individual’s likelihood of developing CVD (Rodgers et al., 2019). The electrocardiogram at rest provides information about heart rate, rhythm, and potential heart enlargement, making it a useful tool for investigating symptoms (Electrocardiogram, 2023). The heart's activity is measured by electrical activity and the electrical impulse that travels through your heart (Electrocardiogram, 2023). The electrical passage can be tracked and used to determine whether the activity is regular or irregular. ECG is often used when experiencing chest pains, and the result can be correlated with numerous heart conditions (Electrocardiogram, 2023). Another factor we selected is blood pressure (BP). BP is one of the most important risk factors for CVD and the leading cause of mortality (Wu et al., 2015). Heart disease is associated with elevated systolic blood pressure, which damages arteries and impedes blood flow to the heart muscle. It is estimated that BP will affect 65% of the population for individuals over the age of 60 (Wu et al., 2015). Additionally, abnormal levels of serum cholesterol in the blood increase the risk of heart disease by promoting the development of fatty deposits in blood vessels, which can hinder flow through arteries (Carson, 2023). Although studies conducted do not indicate a strong association with CVD risk, it is still included as a variable due to the relationship of dietary cholesterol with heart health (Carson, 2023)."
   ]
  },
  {
   "cell_type": "markdown",
   "id": "a558e4bb-a966-468f-90a8-d0294ab33e84",
   "metadata": {},
   "source": [
    "## Discussion"
   ]
  },
  {
   "cell_type": "markdown",
   "id": "699003bc-4516-4ce9-9bcb-95c86f1a343e",
   "metadata": {},
   "source": [
    "## References"
   ]
  }
 ],
 "metadata": {
  "kernelspec": {
   "display_name": "R",
   "language": "R",
   "name": "ir"
  },
  "language_info": {
   "codemirror_mode": "r",
   "file_extension": ".r",
   "mimetype": "text/x-r-source",
   "name": "R",
   "pygments_lexer": "r",
   "version": "4.1.3"
  }
 },
 "nbformat": 4,
 "nbformat_minor": 5
}
