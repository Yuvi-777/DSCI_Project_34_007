{
 "cells": [
  {
   "cell_type": "markdown",
   "id": "b12b90b1-7f57-46f0-bdca-3960239545ea",
   "metadata": {},
   "source": [
    "# Group Project Report"
   ]
  },
  {
   "cell_type": "markdown",
   "id": "cfc7e755-6761-4ca6-a27e-6553d5b49dec",
   "metadata": {},
   "source": [
    "## Introduction"
   ]
  },
  {
   "cell_type": "markdown",
   "id": "ddbcff36-9ef6-4916-82a1-27a50e9a5f9a",
   "metadata": {},
   "source": [
    "## Methods and Results"
   ]
  },
  {
   "cell_type": "markdown",
   "id": "a558e4bb-a966-468f-90a8-d0294ab33e84",
   "metadata": {},
   "source": [
    "## Discussion"
   ]
  },
  {
   "cell_type": "markdown",
   "id": "699003bc-4516-4ce9-9bcb-95c86f1a343e",
   "metadata": {},
   "source": [
    "## References"
   ]
  }
 ],
 "metadata": {
  "kernelspec": {
   "display_name": "R",
   "language": "R",
   "name": "ir"
  },
  "language_info": {
   "codemirror_mode": "r",
   "file_extension": ".r",
   "mimetype": "text/x-r-source",
   "name": "R",
   "pygments_lexer": "r",
   "version": "4.1.3"
  }
 },
 "nbformat": 4,
 "nbformat_minor": 5
}
