{
 "cells": [
  {
   "cell_type": "markdown",
   "id": "26077960-b752-44d0-a942-220fe1a7f49a",
   "metadata": {},
   "source": [
    "Introduction\n",
    "\n",
    "Heart disease is increasingly common and one of the leading causes of death around the world. As algorithms and modeling become more accessible and sophisticated, they can be used to predict and diagnose heart disease. Here, we will create a simple model using the k-nearest neighbors algorithm to predict the type of chest pain in individuals testing for heart disease. We will investigate how accurately we can predict the type of chest pain with a K-nearest Neighbour model?\n",
    "\n",
    "The dataset we will use is called “processed.cleveland.data” from the Machine Learning Repository. Data was collected between May 1981 and September 1984 and stems from the angiography results of 303 patients at the Cleveland Clinic in Cleveland, Ohio. Similar algorithms have been created like the one described in Detrano et al.’s International Application of a New Probability Algorithm for the Diagnosis of Coronary Artery Disease where the same data set, along with similar ones, trained an algorithm to predict heart disease.\n",
    "\n",
    "Methods and Variable Selection\n",
    "\n",
    "As mentioned previously, we will develop a model using this dataset to predict the type of chest pain that an individual is experiencing. The potential types of chest pain are typical angina, atypical angina, non-anginal pain, and asymptomatic pain. Our model will use the k-nearest neighbours algorithm and consider age, sex, electrocardiogram rate at rest (restecg), systolic blood pressure (trestbps), and cholesterol (chol) as variables. Age and sex were chosen because women with CHD tend to be older than men with CHD, and test of CHD increases with age in both sexes. By incorporating age and sex, we can better estimate an individual’s likelihood of developing CHD. The electrocardiogram at rest provides information about heart rate, rhythm and potential heart enlargement, making it a useful tool for investigating symptoms. A higher risk of heart disease associated with elevated systolic blood pressure, which damages arteries and impedes blood flow to the heart muscle. Additionally, a high level of serum cholesterol in the blood increases the risk of heart disease by promoting the development of fatty deposits in blood vessels, which can hinder flow through arteries.\n",
    "\n",
    "We can visualise the results using a bar chart to show the frequency of the times we accurately predicted the chest pain type for the testing data and the time we failed.\n",
    "\n"
   ]
  },
  {
   "cell_type": "code",
   "execution_count": 1,
   "id": "c0e18692-27c9-4043-9f5d-a93c6cb3da31",
   "metadata": {},
   "outputs": [
    {
     "name": "stderr",
     "output_type": "stream",
     "text": [
      "── \u001b[1mAttaching packages\u001b[22m ─────────────────────────────────────── tidyverse 1.3.1 ──\n",
      "\n",
      "\u001b[32m✔\u001b[39m \u001b[34mggplot2\u001b[39m 3.3.6     \u001b[32m✔\u001b[39m \u001b[34mpurrr  \u001b[39m 0.3.4\n",
      "\u001b[32m✔\u001b[39m \u001b[34mtibble \u001b[39m 3.1.7     \u001b[32m✔\u001b[39m \u001b[34mdplyr  \u001b[39m 1.0.9\n",
      "\u001b[32m✔\u001b[39m \u001b[34mtidyr  \u001b[39m 1.2.0     \u001b[32m✔\u001b[39m \u001b[34mstringr\u001b[39m 1.4.0\n",
      "\u001b[32m✔\u001b[39m \u001b[34mreadr  \u001b[39m 2.1.2     \u001b[32m✔\u001b[39m \u001b[34mforcats\u001b[39m 0.5.1\n",
      "\n",
      "── \u001b[1mConflicts\u001b[22m ────────────────────────────────────────── tidyverse_conflicts() ──\n",
      "\u001b[31m✖\u001b[39m \u001b[34mdplyr\u001b[39m::\u001b[32mfilter()\u001b[39m masks \u001b[34mstats\u001b[39m::filter()\n",
      "\u001b[31m✖\u001b[39m \u001b[34mdplyr\u001b[39m::\u001b[32mlag()\u001b[39m    masks \u001b[34mstats\u001b[39m::lag()\n",
      "\n",
      "── \u001b[1mAttaching packages\u001b[22m ────────────────────────────────────── tidymodels 1.0.0 ──\n",
      "\n",
      "\u001b[32m✔\u001b[39m \u001b[34mbroom       \u001b[39m 1.0.0     \u001b[32m✔\u001b[39m \u001b[34mrsample     \u001b[39m 1.0.0\n",
      "\u001b[32m✔\u001b[39m \u001b[34mdials       \u001b[39m 1.0.0     \u001b[32m✔\u001b[39m \u001b[34mtune        \u001b[39m 1.0.0\n",
      "\u001b[32m✔\u001b[39m \u001b[34minfer       \u001b[39m 1.0.2     \u001b[32m✔\u001b[39m \u001b[34mworkflows   \u001b[39m 1.0.0\n",
      "\u001b[32m✔\u001b[39m \u001b[34mmodeldata   \u001b[39m 1.0.0     \u001b[32m✔\u001b[39m \u001b[34mworkflowsets\u001b[39m 1.0.0\n",
      "\u001b[32m✔\u001b[39m \u001b[34mparsnip     \u001b[39m 1.0.0     \u001b[32m✔\u001b[39m \u001b[34myardstick   \u001b[39m 1.0.0\n",
      "\u001b[32m✔\u001b[39m \u001b[34mrecipes     \u001b[39m 1.0.1     \n",
      "\n",
      "── \u001b[1mConflicts\u001b[22m ───────────────────────────────────────── tidymodels_conflicts() ──\n",
      "\u001b[31m✖\u001b[39m \u001b[34mscales\u001b[39m::\u001b[32mdiscard()\u001b[39m masks \u001b[34mpurrr\u001b[39m::discard()\n",
      "\u001b[31m✖\u001b[39m \u001b[34mdplyr\u001b[39m::\u001b[32mfilter()\u001b[39m   masks \u001b[34mstats\u001b[39m::filter()\n",
      "\u001b[31m✖\u001b[39m \u001b[34mrecipes\u001b[39m::\u001b[32mfixed()\u001b[39m  masks \u001b[34mstringr\u001b[39m::fixed()\n",
      "\u001b[31m✖\u001b[39m \u001b[34mdplyr\u001b[39m::\u001b[32mlag()\u001b[39m      masks \u001b[34mstats\u001b[39m::lag()\n",
      "\u001b[31m✖\u001b[39m \u001b[34myardstick\u001b[39m::\u001b[32mspec()\u001b[39m masks \u001b[34mreadr\u001b[39m::spec()\n",
      "\u001b[31m✖\u001b[39m \u001b[34mrecipes\u001b[39m::\u001b[32mstep()\u001b[39m   masks \u001b[34mstats\u001b[39m::step()\n",
      "\u001b[34m•\u001b[39m Use suppressPackageStartupMessages() to eliminate package startup messages\n",
      "\n"
     ]
    }
   ],
   "source": [
    "library(tidyverse)\n",
    "library(tidymodels)\n",
    "set.seed(777)"
   ]
  },
  {
   "cell_type": "markdown",
   "id": "037c15e7-d729-48f4-8882-bdc0cf1cd58a",
   "metadata": {},
   "source": [
    "We need to first read the dataset from the internet. After reading the data, we can rename the columns to make the data more informative. This is done below:"
   ]
  },
  {
   "cell_type": "code",
   "execution_count": 2,
   "id": "0a69e4b1-e22e-43e2-9336-0105449c6639",
   "metadata": {},
   "outputs": [
    {
     "name": "stderr",
     "output_type": "stream",
     "text": [
      "\u001b[1mRows: \u001b[22m\u001b[34m303\u001b[39m \u001b[1mColumns: \u001b[22m\u001b[34m14\u001b[39m\n",
      "\u001b[36m──\u001b[39m \u001b[1mColumn specification\u001b[22m \u001b[36m────────────────────────────────────────────────────────\u001b[39m\n",
      "\u001b[1mDelimiter:\u001b[22m \",\"\n",
      "\u001b[31mchr\u001b[39m  (2): X12, X13\n",
      "\u001b[32mdbl\u001b[39m (12): X1, X2, X3, X4, X5, X6, X7, X8, X9, X10, X11, X14\n",
      "\n",
      "\u001b[36mℹ\u001b[39m Use `spec()` to retrieve the full column specification for this data.\n",
      "\u001b[36mℹ\u001b[39m Specify the column types or set `show_col_types = FALSE` to quiet this message.\n"
     ]
    }
   ],
   "source": [
    "\n",
    "url <- \"https://archive.ics.uci.edu/ml/machine-learning-databases/heart-disease/processed.cleveland.data\"\n",
    "cleveland_data <- read_csv(url, col_names = FALSE)\n",
    "cleveland_data <- rename(cleveland_data,\n",
    "       age = X1, \n",
    "       sex = X2, \n",
    "       cp = X3,\n",
    "       trestbps = X4, \n",
    "       chol = X5, \n",
    "       fbs = X6, \n",
    "       restecg = X7, \n",
    "       thalach = X8, \n",
    "       exang = X9, \n",
    "       oldpeak = X10, \n",
    "       slope = X11, \n",
    "       ca = X12, \n",
    "       thal = X13, \n",
    "       num = X14)\n"
   ]
  },
  {
   "cell_type": "markdown",
   "id": "215de687-d634-426f-ae18-720ac1669139",
   "metadata": {},
   "source": [
    "The data is then mutated to convert the columns into the right variable type. For example, since cp(chest pain) is a factor, we can use the as_factor function to convert the column."
   ]
  },
  {
   "cell_type": "code",
   "execution_count": 3,
   "id": "b22907d8-a5ce-4b26-ae82-335b5ab15a98",
   "metadata": {},
   "outputs": [],
   "source": [
    " cd_mutate <- cleveland_data |>\n",
    "mutate(sex = as_factor(sex)) |> \n",
    "mutate(cp = as_factor(cp)) |> \n",
    "mutate(fbs = as_factor(fbs)) |> \n",
    "mutate(restecg = as_factor(restecg)) |> \n",
    "mutate(exang = as_factor(exang)) |> \n",
    "mutate(slope = as_factor(slope)) |> \n",
    "mutate(ca = as_factor(ca)) |>\n",
    "mutate(thal = as_factor(thal)) |> \n",
    "mutate(num = as_factor(num))\n"
   ]
  },
  {
   "cell_type": "markdown",
   "id": "3a6886f6-0193-4152-9a54-96c686e114d2",
   "metadata": {},
   "source": [
    "The dataset for heart disease contains \"?\" instead of NA values which might be difficult to deal with later on. We can replace all the \"?\" to NA as shown below."
   ]
  },
  {
   "cell_type": "code",
   "execution_count": 4,
   "id": "cbe48109-28e4-4b9f-b65a-ed91a8f789b2",
   "metadata": {},
   "outputs": [
    {
     "data": {
      "text/html": [
       "<table class=\"dataframe\">\n",
       "<caption>A tibble: 303 × 14</caption>\n",
       "<thead>\n",
       "\t<tr><th scope=col>age</th><th scope=col>sex</th><th scope=col>cp</th><th scope=col>trestbps</th><th scope=col>chol</th><th scope=col>fbs</th><th scope=col>restecg</th><th scope=col>thalach</th><th scope=col>exang</th><th scope=col>oldpeak</th><th scope=col>slope</th><th scope=col>ca</th><th scope=col>thal</th><th scope=col>num</th></tr>\n",
       "\t<tr><th scope=col>&lt;dbl&gt;</th><th scope=col>&lt;fct&gt;</th><th scope=col>&lt;fct&gt;</th><th scope=col>&lt;dbl&gt;</th><th scope=col>&lt;dbl&gt;</th><th scope=col>&lt;fct&gt;</th><th scope=col>&lt;fct&gt;</th><th scope=col>&lt;dbl&gt;</th><th scope=col>&lt;fct&gt;</th><th scope=col>&lt;dbl&gt;</th><th scope=col>&lt;fct&gt;</th><th scope=col>&lt;fct&gt;</th><th scope=col>&lt;fct&gt;</th><th scope=col>&lt;fct&gt;</th></tr>\n",
       "</thead>\n",
       "<tbody>\n",
       "\t<tr><td>63</td><td>1</td><td>1</td><td>145</td><td>233</td><td>1</td><td>2</td><td>150</td><td>0</td><td>2.3</td><td>3</td><td>0.0</td><td>6.0</td><td>0</td></tr>\n",
       "\t<tr><td>67</td><td>1</td><td>4</td><td>160</td><td>286</td><td>0</td><td>2</td><td>108</td><td>1</td><td>1.5</td><td>2</td><td>3.0</td><td>3.0</td><td>2</td></tr>\n",
       "\t<tr><td>67</td><td>1</td><td>4</td><td>120</td><td>229</td><td>0</td><td>2</td><td>129</td><td>1</td><td>2.6</td><td>2</td><td>2.0</td><td>7.0</td><td>1</td></tr>\n",
       "\t<tr><td>37</td><td>1</td><td>3</td><td>130</td><td>250</td><td>0</td><td>0</td><td>187</td><td>0</td><td>3.5</td><td>3</td><td>0.0</td><td>3.0</td><td>0</td></tr>\n",
       "\t<tr><td>41</td><td>0</td><td>2</td><td>130</td><td>204</td><td>0</td><td>2</td><td>172</td><td>0</td><td>1.4</td><td>1</td><td>0.0</td><td>3.0</td><td>0</td></tr>\n",
       "\t<tr><td>56</td><td>1</td><td>2</td><td>120</td><td>236</td><td>0</td><td>0</td><td>178</td><td>0</td><td>0.8</td><td>1</td><td>0.0</td><td>3.0</td><td>0</td></tr>\n",
       "\t<tr><td>62</td><td>0</td><td>4</td><td>140</td><td>268</td><td>0</td><td>2</td><td>160</td><td>0</td><td>3.6</td><td>3</td><td>2.0</td><td>3.0</td><td>3</td></tr>\n",
       "\t<tr><td>57</td><td>0</td><td>4</td><td>120</td><td>354</td><td>0</td><td>0</td><td>163</td><td>1</td><td>0.6</td><td>1</td><td>0.0</td><td>3.0</td><td>0</td></tr>\n",
       "\t<tr><td>63</td><td>1</td><td>4</td><td>130</td><td>254</td><td>0</td><td>2</td><td>147</td><td>0</td><td>1.4</td><td>2</td><td>1.0</td><td>7.0</td><td>2</td></tr>\n",
       "\t<tr><td>53</td><td>1</td><td>4</td><td>140</td><td>203</td><td>1</td><td>2</td><td>155</td><td>1</td><td>3.1</td><td>3</td><td>0.0</td><td>7.0</td><td>1</td></tr>\n",
       "\t<tr><td>57</td><td>1</td><td>4</td><td>140</td><td>192</td><td>0</td><td>0</td><td>148</td><td>0</td><td>0.4</td><td>2</td><td>0.0</td><td>6.0</td><td>0</td></tr>\n",
       "\t<tr><td>56</td><td>0</td><td>2</td><td>140</td><td>294</td><td>0</td><td>2</td><td>153</td><td>0</td><td>1.3</td><td>2</td><td>0.0</td><td>3.0</td><td>0</td></tr>\n",
       "\t<tr><td>56</td><td>1</td><td>3</td><td>130</td><td>256</td><td>1</td><td>2</td><td>142</td><td>1</td><td>0.6</td><td>2</td><td>1.0</td><td>6.0</td><td>2</td></tr>\n",
       "\t<tr><td>44</td><td>1</td><td>2</td><td>120</td><td>263</td><td>0</td><td>0</td><td>173</td><td>0</td><td>0.0</td><td>1</td><td>0.0</td><td>7.0</td><td>0</td></tr>\n",
       "\t<tr><td>52</td><td>1</td><td>3</td><td>172</td><td>199</td><td>1</td><td>0</td><td>162</td><td>0</td><td>0.5</td><td>1</td><td>0.0</td><td>7.0</td><td>0</td></tr>\n",
       "\t<tr><td>57</td><td>1</td><td>3</td><td>150</td><td>168</td><td>0</td><td>0</td><td>174</td><td>0</td><td>1.6</td><td>1</td><td>0.0</td><td>3.0</td><td>0</td></tr>\n",
       "\t<tr><td>48</td><td>1</td><td>2</td><td>110</td><td>229</td><td>0</td><td>0</td><td>168</td><td>0</td><td>1.0</td><td>3</td><td>0.0</td><td>7.0</td><td>1</td></tr>\n",
       "\t<tr><td>54</td><td>1</td><td>4</td><td>140</td><td>239</td><td>0</td><td>0</td><td>160</td><td>0</td><td>1.2</td><td>1</td><td>0.0</td><td>3.0</td><td>0</td></tr>\n",
       "\t<tr><td>48</td><td>0</td><td>3</td><td>130</td><td>275</td><td>0</td><td>0</td><td>139</td><td>0</td><td>0.2</td><td>1</td><td>0.0</td><td>3.0</td><td>0</td></tr>\n",
       "\t<tr><td>49</td><td>1</td><td>2</td><td>130</td><td>266</td><td>0</td><td>0</td><td>171</td><td>0</td><td>0.6</td><td>1</td><td>0.0</td><td>3.0</td><td>0</td></tr>\n",
       "\t<tr><td>64</td><td>1</td><td>1</td><td>110</td><td>211</td><td>0</td><td>2</td><td>144</td><td>1</td><td>1.8</td><td>2</td><td>0.0</td><td>3.0</td><td>0</td></tr>\n",
       "\t<tr><td>58</td><td>0</td><td>1</td><td>150</td><td>283</td><td>1</td><td>2</td><td>162</td><td>0</td><td>1.0</td><td>1</td><td>0.0</td><td>3.0</td><td>0</td></tr>\n",
       "\t<tr><td>58</td><td>1</td><td>2</td><td>120</td><td>284</td><td>0</td><td>2</td><td>160</td><td>0</td><td>1.8</td><td>2</td><td>0.0</td><td>3.0</td><td>1</td></tr>\n",
       "\t<tr><td>58</td><td>1</td><td>3</td><td>132</td><td>224</td><td>0</td><td>2</td><td>173</td><td>0</td><td>3.2</td><td>1</td><td>2.0</td><td>7.0</td><td>3</td></tr>\n",
       "\t<tr><td>60</td><td>1</td><td>4</td><td>130</td><td>206</td><td>0</td><td>2</td><td>132</td><td>1</td><td>2.4</td><td>2</td><td>2.0</td><td>7.0</td><td>4</td></tr>\n",
       "\t<tr><td>50</td><td>0</td><td>3</td><td>120</td><td>219</td><td>0</td><td>0</td><td>158</td><td>0</td><td>1.6</td><td>2</td><td>0.0</td><td>3.0</td><td>0</td></tr>\n",
       "\t<tr><td>58</td><td>0</td><td>3</td><td>120</td><td>340</td><td>0</td><td>0</td><td>172</td><td>0</td><td>0.0</td><td>1</td><td>0.0</td><td>3.0</td><td>0</td></tr>\n",
       "\t<tr><td>66</td><td>0</td><td>1</td><td>150</td><td>226</td><td>0</td><td>0</td><td>114</td><td>0</td><td>2.6</td><td>3</td><td>0.0</td><td>3.0</td><td>0</td></tr>\n",
       "\t<tr><td>43</td><td>1</td><td>4</td><td>150</td><td>247</td><td>0</td><td>0</td><td>171</td><td>0</td><td>1.5</td><td>1</td><td>0.0</td><td>3.0</td><td>0</td></tr>\n",
       "\t<tr><td>40</td><td>1</td><td>4</td><td>110</td><td>167</td><td>0</td><td>2</td><td>114</td><td>1</td><td>2.0</td><td>2</td><td>0.0</td><td>7.0</td><td>3</td></tr>\n",
       "\t<tr><td>⋮</td><td>⋮</td><td>⋮</td><td>⋮</td><td>⋮</td><td>⋮</td><td>⋮</td><td>⋮</td><td>⋮</td><td>⋮</td><td>⋮</td><td>⋮</td><td>⋮</td><td>⋮</td></tr>\n",
       "\t<tr><td>71</td><td>0</td><td>4</td><td>112</td><td>149</td><td>0</td><td>0</td><td>125</td><td>0</td><td>1.6</td><td>2</td><td>0.0</td><td>3.0</td><td>0</td></tr>\n",
       "\t<tr><td>59</td><td>1</td><td>1</td><td>134</td><td>204</td><td>0</td><td>0</td><td>162</td><td>0</td><td>0.8</td><td>1</td><td>2.0</td><td>3.0</td><td>1</td></tr>\n",
       "\t<tr><td>64</td><td>1</td><td>1</td><td>170</td><td>227</td><td>0</td><td>2</td><td>155</td><td>0</td><td>0.6</td><td>2</td><td>0.0</td><td>7.0</td><td>0</td></tr>\n",
       "\t<tr><td>66</td><td>0</td><td>3</td><td>146</td><td>278</td><td>0</td><td>2</td><td>152</td><td>0</td><td>0.0</td><td>2</td><td>1.0</td><td>3.0</td><td>0</td></tr>\n",
       "\t<tr><td>39</td><td>0</td><td>3</td><td>138</td><td>220</td><td>0</td><td>0</td><td>152</td><td>0</td><td>0.0</td><td>2</td><td>0.0</td><td>3.0</td><td>0</td></tr>\n",
       "\t<tr><td>57</td><td>1</td><td>2</td><td>154</td><td>232</td><td>0</td><td>2</td><td>164</td><td>0</td><td>0.0</td><td>1</td><td>1.0</td><td>3.0</td><td>1</td></tr>\n",
       "\t<tr><td>58</td><td>0</td><td>4</td><td>130</td><td>197</td><td>0</td><td>0</td><td>131</td><td>0</td><td>0.6</td><td>2</td><td>0.0</td><td>3.0</td><td>0</td></tr>\n",
       "\t<tr><td>57</td><td>1</td><td>4</td><td>110</td><td>335</td><td>0</td><td>0</td><td>143</td><td>1</td><td>3.0</td><td>2</td><td>1.0</td><td>7.0</td><td>2</td></tr>\n",
       "\t<tr><td>47</td><td>1</td><td>3</td><td>130</td><td>253</td><td>0</td><td>0</td><td>179</td><td>0</td><td>0.0</td><td>1</td><td>0.0</td><td>3.0</td><td>0</td></tr>\n",
       "\t<tr><td>55</td><td>0</td><td>4</td><td>128</td><td>205</td><td>0</td><td>1</td><td>130</td><td>1</td><td>2.0</td><td>2</td><td>1.0</td><td>7.0</td><td>3</td></tr>\n",
       "\t<tr><td>35</td><td>1</td><td>2</td><td>122</td><td>192</td><td>0</td><td>0</td><td>174</td><td>0</td><td>0.0</td><td>1</td><td>0.0</td><td>3.0</td><td>0</td></tr>\n",
       "\t<tr><td>61</td><td>1</td><td>4</td><td>148</td><td>203</td><td>0</td><td>0</td><td>161</td><td>0</td><td>0.0</td><td>1</td><td>1.0</td><td>7.0</td><td>2</td></tr>\n",
       "\t<tr><td>58</td><td>1</td><td>4</td><td>114</td><td>318</td><td>0</td><td>1</td><td>140</td><td>0</td><td>4.4</td><td>3</td><td>3.0</td><td>6.0</td><td>4</td></tr>\n",
       "\t<tr><td>58</td><td>0</td><td>4</td><td>170</td><td>225</td><td>1</td><td>2</td><td>146</td><td>1</td><td>2.8</td><td>2</td><td>2.0</td><td>6.0</td><td>2</td></tr>\n",
       "\t<tr><td>58</td><td>1</td><td>2</td><td>125</td><td>220</td><td>0</td><td>0</td><td>144</td><td>0</td><td>0.4</td><td>2</td><td>NA </td><td>7.0</td><td>0</td></tr>\n",
       "\t<tr><td>56</td><td>1</td><td>2</td><td>130</td><td>221</td><td>0</td><td>2</td><td>163</td><td>0</td><td>0.0</td><td>1</td><td>0.0</td><td>7.0</td><td>0</td></tr>\n",
       "\t<tr><td>56</td><td>1</td><td>2</td><td>120</td><td>240</td><td>0</td><td>0</td><td>169</td><td>0</td><td>0.0</td><td>3</td><td>0.0</td><td>3.0</td><td>0</td></tr>\n",
       "\t<tr><td>67</td><td>1</td><td>3</td><td>152</td><td>212</td><td>0</td><td>2</td><td>150</td><td>0</td><td>0.8</td><td>2</td><td>0.0</td><td>7.0</td><td>1</td></tr>\n",
       "\t<tr><td>55</td><td>0</td><td>2</td><td>132</td><td>342</td><td>0</td><td>0</td><td>166</td><td>0</td><td>1.2</td><td>1</td><td>0.0</td><td>3.0</td><td>0</td></tr>\n",
       "\t<tr><td>44</td><td>1</td><td>4</td><td>120</td><td>169</td><td>0</td><td>0</td><td>144</td><td>1</td><td>2.8</td><td>3</td><td>0.0</td><td>6.0</td><td>2</td></tr>\n",
       "\t<tr><td>63</td><td>1</td><td>4</td><td>140</td><td>187</td><td>0</td><td>2</td><td>144</td><td>1</td><td>4.0</td><td>1</td><td>2.0</td><td>7.0</td><td>2</td></tr>\n",
       "\t<tr><td>63</td><td>0</td><td>4</td><td>124</td><td>197</td><td>0</td><td>0</td><td>136</td><td>1</td><td>0.0</td><td>2</td><td>0.0</td><td>3.0</td><td>1</td></tr>\n",
       "\t<tr><td>41</td><td>1</td><td>2</td><td>120</td><td>157</td><td>0</td><td>0</td><td>182</td><td>0</td><td>0.0</td><td>1</td><td>0.0</td><td>3.0</td><td>0</td></tr>\n",
       "\t<tr><td>59</td><td>1</td><td>4</td><td>164</td><td>176</td><td>1</td><td>2</td><td> 90</td><td>0</td><td>1.0</td><td>2</td><td>2.0</td><td>6.0</td><td>3</td></tr>\n",
       "\t<tr><td>57</td><td>0</td><td>4</td><td>140</td><td>241</td><td>0</td><td>0</td><td>123</td><td>1</td><td>0.2</td><td>2</td><td>0.0</td><td>7.0</td><td>1</td></tr>\n",
       "\t<tr><td>45</td><td>1</td><td>1</td><td>110</td><td>264</td><td>0</td><td>0</td><td>132</td><td>0</td><td>1.2</td><td>2</td><td>0.0</td><td>7.0</td><td>1</td></tr>\n",
       "\t<tr><td>68</td><td>1</td><td>4</td><td>144</td><td>193</td><td>1</td><td>0</td><td>141</td><td>0</td><td>3.4</td><td>2</td><td>2.0</td><td>7.0</td><td>2</td></tr>\n",
       "\t<tr><td>57</td><td>1</td><td>4</td><td>130</td><td>131</td><td>0</td><td>0</td><td>115</td><td>1</td><td>1.2</td><td>2</td><td>1.0</td><td>7.0</td><td>3</td></tr>\n",
       "\t<tr><td>57</td><td>0</td><td>2</td><td>130</td><td>236</td><td>0</td><td>2</td><td>174</td><td>0</td><td>0.0</td><td>2</td><td>1.0</td><td>3.0</td><td>1</td></tr>\n",
       "\t<tr><td>38</td><td>1</td><td>3</td><td>138</td><td>175</td><td>0</td><td>0</td><td>173</td><td>0</td><td>0.0</td><td>1</td><td>NA </td><td>3.0</td><td>0</td></tr>\n",
       "</tbody>\n",
       "</table>\n"
      ],
      "text/latex": [
       "A tibble: 303 × 14\n",
       "\\begin{tabular}{llllllllllllll}\n",
       " age & sex & cp & trestbps & chol & fbs & restecg & thalach & exang & oldpeak & slope & ca & thal & num\\\\\n",
       " <dbl> & <fct> & <fct> & <dbl> & <dbl> & <fct> & <fct> & <dbl> & <fct> & <dbl> & <fct> & <fct> & <fct> & <fct>\\\\\n",
       "\\hline\n",
       "\t 63 & 1 & 1 & 145 & 233 & 1 & 2 & 150 & 0 & 2.3 & 3 & 0.0 & 6.0 & 0\\\\\n",
       "\t 67 & 1 & 4 & 160 & 286 & 0 & 2 & 108 & 1 & 1.5 & 2 & 3.0 & 3.0 & 2\\\\\n",
       "\t 67 & 1 & 4 & 120 & 229 & 0 & 2 & 129 & 1 & 2.6 & 2 & 2.0 & 7.0 & 1\\\\\n",
       "\t 37 & 1 & 3 & 130 & 250 & 0 & 0 & 187 & 0 & 3.5 & 3 & 0.0 & 3.0 & 0\\\\\n",
       "\t 41 & 0 & 2 & 130 & 204 & 0 & 2 & 172 & 0 & 1.4 & 1 & 0.0 & 3.0 & 0\\\\\n",
       "\t 56 & 1 & 2 & 120 & 236 & 0 & 0 & 178 & 0 & 0.8 & 1 & 0.0 & 3.0 & 0\\\\\n",
       "\t 62 & 0 & 4 & 140 & 268 & 0 & 2 & 160 & 0 & 3.6 & 3 & 2.0 & 3.0 & 3\\\\\n",
       "\t 57 & 0 & 4 & 120 & 354 & 0 & 0 & 163 & 1 & 0.6 & 1 & 0.0 & 3.0 & 0\\\\\n",
       "\t 63 & 1 & 4 & 130 & 254 & 0 & 2 & 147 & 0 & 1.4 & 2 & 1.0 & 7.0 & 2\\\\\n",
       "\t 53 & 1 & 4 & 140 & 203 & 1 & 2 & 155 & 1 & 3.1 & 3 & 0.0 & 7.0 & 1\\\\\n",
       "\t 57 & 1 & 4 & 140 & 192 & 0 & 0 & 148 & 0 & 0.4 & 2 & 0.0 & 6.0 & 0\\\\\n",
       "\t 56 & 0 & 2 & 140 & 294 & 0 & 2 & 153 & 0 & 1.3 & 2 & 0.0 & 3.0 & 0\\\\\n",
       "\t 56 & 1 & 3 & 130 & 256 & 1 & 2 & 142 & 1 & 0.6 & 2 & 1.0 & 6.0 & 2\\\\\n",
       "\t 44 & 1 & 2 & 120 & 263 & 0 & 0 & 173 & 0 & 0.0 & 1 & 0.0 & 7.0 & 0\\\\\n",
       "\t 52 & 1 & 3 & 172 & 199 & 1 & 0 & 162 & 0 & 0.5 & 1 & 0.0 & 7.0 & 0\\\\\n",
       "\t 57 & 1 & 3 & 150 & 168 & 0 & 0 & 174 & 0 & 1.6 & 1 & 0.0 & 3.0 & 0\\\\\n",
       "\t 48 & 1 & 2 & 110 & 229 & 0 & 0 & 168 & 0 & 1.0 & 3 & 0.0 & 7.0 & 1\\\\\n",
       "\t 54 & 1 & 4 & 140 & 239 & 0 & 0 & 160 & 0 & 1.2 & 1 & 0.0 & 3.0 & 0\\\\\n",
       "\t 48 & 0 & 3 & 130 & 275 & 0 & 0 & 139 & 0 & 0.2 & 1 & 0.0 & 3.0 & 0\\\\\n",
       "\t 49 & 1 & 2 & 130 & 266 & 0 & 0 & 171 & 0 & 0.6 & 1 & 0.0 & 3.0 & 0\\\\\n",
       "\t 64 & 1 & 1 & 110 & 211 & 0 & 2 & 144 & 1 & 1.8 & 2 & 0.0 & 3.0 & 0\\\\\n",
       "\t 58 & 0 & 1 & 150 & 283 & 1 & 2 & 162 & 0 & 1.0 & 1 & 0.0 & 3.0 & 0\\\\\n",
       "\t 58 & 1 & 2 & 120 & 284 & 0 & 2 & 160 & 0 & 1.8 & 2 & 0.0 & 3.0 & 1\\\\\n",
       "\t 58 & 1 & 3 & 132 & 224 & 0 & 2 & 173 & 0 & 3.2 & 1 & 2.0 & 7.0 & 3\\\\\n",
       "\t 60 & 1 & 4 & 130 & 206 & 0 & 2 & 132 & 1 & 2.4 & 2 & 2.0 & 7.0 & 4\\\\\n",
       "\t 50 & 0 & 3 & 120 & 219 & 0 & 0 & 158 & 0 & 1.6 & 2 & 0.0 & 3.0 & 0\\\\\n",
       "\t 58 & 0 & 3 & 120 & 340 & 0 & 0 & 172 & 0 & 0.0 & 1 & 0.0 & 3.0 & 0\\\\\n",
       "\t 66 & 0 & 1 & 150 & 226 & 0 & 0 & 114 & 0 & 2.6 & 3 & 0.0 & 3.0 & 0\\\\\n",
       "\t 43 & 1 & 4 & 150 & 247 & 0 & 0 & 171 & 0 & 1.5 & 1 & 0.0 & 3.0 & 0\\\\\n",
       "\t 40 & 1 & 4 & 110 & 167 & 0 & 2 & 114 & 1 & 2.0 & 2 & 0.0 & 7.0 & 3\\\\\n",
       "\t ⋮ & ⋮ & ⋮ & ⋮ & ⋮ & ⋮ & ⋮ & ⋮ & ⋮ & ⋮ & ⋮ & ⋮ & ⋮ & ⋮\\\\\n",
       "\t 71 & 0 & 4 & 112 & 149 & 0 & 0 & 125 & 0 & 1.6 & 2 & 0.0 & 3.0 & 0\\\\\n",
       "\t 59 & 1 & 1 & 134 & 204 & 0 & 0 & 162 & 0 & 0.8 & 1 & 2.0 & 3.0 & 1\\\\\n",
       "\t 64 & 1 & 1 & 170 & 227 & 0 & 2 & 155 & 0 & 0.6 & 2 & 0.0 & 7.0 & 0\\\\\n",
       "\t 66 & 0 & 3 & 146 & 278 & 0 & 2 & 152 & 0 & 0.0 & 2 & 1.0 & 3.0 & 0\\\\\n",
       "\t 39 & 0 & 3 & 138 & 220 & 0 & 0 & 152 & 0 & 0.0 & 2 & 0.0 & 3.0 & 0\\\\\n",
       "\t 57 & 1 & 2 & 154 & 232 & 0 & 2 & 164 & 0 & 0.0 & 1 & 1.0 & 3.0 & 1\\\\\n",
       "\t 58 & 0 & 4 & 130 & 197 & 0 & 0 & 131 & 0 & 0.6 & 2 & 0.0 & 3.0 & 0\\\\\n",
       "\t 57 & 1 & 4 & 110 & 335 & 0 & 0 & 143 & 1 & 3.0 & 2 & 1.0 & 7.0 & 2\\\\\n",
       "\t 47 & 1 & 3 & 130 & 253 & 0 & 0 & 179 & 0 & 0.0 & 1 & 0.0 & 3.0 & 0\\\\\n",
       "\t 55 & 0 & 4 & 128 & 205 & 0 & 1 & 130 & 1 & 2.0 & 2 & 1.0 & 7.0 & 3\\\\\n",
       "\t 35 & 1 & 2 & 122 & 192 & 0 & 0 & 174 & 0 & 0.0 & 1 & 0.0 & 3.0 & 0\\\\\n",
       "\t 61 & 1 & 4 & 148 & 203 & 0 & 0 & 161 & 0 & 0.0 & 1 & 1.0 & 7.0 & 2\\\\\n",
       "\t 58 & 1 & 4 & 114 & 318 & 0 & 1 & 140 & 0 & 4.4 & 3 & 3.0 & 6.0 & 4\\\\\n",
       "\t 58 & 0 & 4 & 170 & 225 & 1 & 2 & 146 & 1 & 2.8 & 2 & 2.0 & 6.0 & 2\\\\\n",
       "\t 58 & 1 & 2 & 125 & 220 & 0 & 0 & 144 & 0 & 0.4 & 2 & NA  & 7.0 & 0\\\\\n",
       "\t 56 & 1 & 2 & 130 & 221 & 0 & 2 & 163 & 0 & 0.0 & 1 & 0.0 & 7.0 & 0\\\\\n",
       "\t 56 & 1 & 2 & 120 & 240 & 0 & 0 & 169 & 0 & 0.0 & 3 & 0.0 & 3.0 & 0\\\\\n",
       "\t 67 & 1 & 3 & 152 & 212 & 0 & 2 & 150 & 0 & 0.8 & 2 & 0.0 & 7.0 & 1\\\\\n",
       "\t 55 & 0 & 2 & 132 & 342 & 0 & 0 & 166 & 0 & 1.2 & 1 & 0.0 & 3.0 & 0\\\\\n",
       "\t 44 & 1 & 4 & 120 & 169 & 0 & 0 & 144 & 1 & 2.8 & 3 & 0.0 & 6.0 & 2\\\\\n",
       "\t 63 & 1 & 4 & 140 & 187 & 0 & 2 & 144 & 1 & 4.0 & 1 & 2.0 & 7.0 & 2\\\\\n",
       "\t 63 & 0 & 4 & 124 & 197 & 0 & 0 & 136 & 1 & 0.0 & 2 & 0.0 & 3.0 & 1\\\\\n",
       "\t 41 & 1 & 2 & 120 & 157 & 0 & 0 & 182 & 0 & 0.0 & 1 & 0.0 & 3.0 & 0\\\\\n",
       "\t 59 & 1 & 4 & 164 & 176 & 1 & 2 &  90 & 0 & 1.0 & 2 & 2.0 & 6.0 & 3\\\\\n",
       "\t 57 & 0 & 4 & 140 & 241 & 0 & 0 & 123 & 1 & 0.2 & 2 & 0.0 & 7.0 & 1\\\\\n",
       "\t 45 & 1 & 1 & 110 & 264 & 0 & 0 & 132 & 0 & 1.2 & 2 & 0.0 & 7.0 & 1\\\\\n",
       "\t 68 & 1 & 4 & 144 & 193 & 1 & 0 & 141 & 0 & 3.4 & 2 & 2.0 & 7.0 & 2\\\\\n",
       "\t 57 & 1 & 4 & 130 & 131 & 0 & 0 & 115 & 1 & 1.2 & 2 & 1.0 & 7.0 & 3\\\\\n",
       "\t 57 & 0 & 2 & 130 & 236 & 0 & 2 & 174 & 0 & 0.0 & 2 & 1.0 & 3.0 & 1\\\\\n",
       "\t 38 & 1 & 3 & 138 & 175 & 0 & 0 & 173 & 0 & 0.0 & 1 & NA  & 3.0 & 0\\\\\n",
       "\\end{tabular}\n"
      ],
      "text/markdown": [
       "\n",
       "A tibble: 303 × 14\n",
       "\n",
       "| age &lt;dbl&gt; | sex &lt;fct&gt; | cp &lt;fct&gt; | trestbps &lt;dbl&gt; | chol &lt;dbl&gt; | fbs &lt;fct&gt; | restecg &lt;fct&gt; | thalach &lt;dbl&gt; | exang &lt;fct&gt; | oldpeak &lt;dbl&gt; | slope &lt;fct&gt; | ca &lt;fct&gt; | thal &lt;fct&gt; | num &lt;fct&gt; |\n",
       "|---|---|---|---|---|---|---|---|---|---|---|---|---|---|\n",
       "| 63 | 1 | 1 | 145 | 233 | 1 | 2 | 150 | 0 | 2.3 | 3 | 0.0 | 6.0 | 0 |\n",
       "| 67 | 1 | 4 | 160 | 286 | 0 | 2 | 108 | 1 | 1.5 | 2 | 3.0 | 3.0 | 2 |\n",
       "| 67 | 1 | 4 | 120 | 229 | 0 | 2 | 129 | 1 | 2.6 | 2 | 2.0 | 7.0 | 1 |\n",
       "| 37 | 1 | 3 | 130 | 250 | 0 | 0 | 187 | 0 | 3.5 | 3 | 0.0 | 3.0 | 0 |\n",
       "| 41 | 0 | 2 | 130 | 204 | 0 | 2 | 172 | 0 | 1.4 | 1 | 0.0 | 3.0 | 0 |\n",
       "| 56 | 1 | 2 | 120 | 236 | 0 | 0 | 178 | 0 | 0.8 | 1 | 0.0 | 3.0 | 0 |\n",
       "| 62 | 0 | 4 | 140 | 268 | 0 | 2 | 160 | 0 | 3.6 | 3 | 2.0 | 3.0 | 3 |\n",
       "| 57 | 0 | 4 | 120 | 354 | 0 | 0 | 163 | 1 | 0.6 | 1 | 0.0 | 3.0 | 0 |\n",
       "| 63 | 1 | 4 | 130 | 254 | 0 | 2 | 147 | 0 | 1.4 | 2 | 1.0 | 7.0 | 2 |\n",
       "| 53 | 1 | 4 | 140 | 203 | 1 | 2 | 155 | 1 | 3.1 | 3 | 0.0 | 7.0 | 1 |\n",
       "| 57 | 1 | 4 | 140 | 192 | 0 | 0 | 148 | 0 | 0.4 | 2 | 0.0 | 6.0 | 0 |\n",
       "| 56 | 0 | 2 | 140 | 294 | 0 | 2 | 153 | 0 | 1.3 | 2 | 0.0 | 3.0 | 0 |\n",
       "| 56 | 1 | 3 | 130 | 256 | 1 | 2 | 142 | 1 | 0.6 | 2 | 1.0 | 6.0 | 2 |\n",
       "| 44 | 1 | 2 | 120 | 263 | 0 | 0 | 173 | 0 | 0.0 | 1 | 0.0 | 7.0 | 0 |\n",
       "| 52 | 1 | 3 | 172 | 199 | 1 | 0 | 162 | 0 | 0.5 | 1 | 0.0 | 7.0 | 0 |\n",
       "| 57 | 1 | 3 | 150 | 168 | 0 | 0 | 174 | 0 | 1.6 | 1 | 0.0 | 3.0 | 0 |\n",
       "| 48 | 1 | 2 | 110 | 229 | 0 | 0 | 168 | 0 | 1.0 | 3 | 0.0 | 7.0 | 1 |\n",
       "| 54 | 1 | 4 | 140 | 239 | 0 | 0 | 160 | 0 | 1.2 | 1 | 0.0 | 3.0 | 0 |\n",
       "| 48 | 0 | 3 | 130 | 275 | 0 | 0 | 139 | 0 | 0.2 | 1 | 0.0 | 3.0 | 0 |\n",
       "| 49 | 1 | 2 | 130 | 266 | 0 | 0 | 171 | 0 | 0.6 | 1 | 0.0 | 3.0 | 0 |\n",
       "| 64 | 1 | 1 | 110 | 211 | 0 | 2 | 144 | 1 | 1.8 | 2 | 0.0 | 3.0 | 0 |\n",
       "| 58 | 0 | 1 | 150 | 283 | 1 | 2 | 162 | 0 | 1.0 | 1 | 0.0 | 3.0 | 0 |\n",
       "| 58 | 1 | 2 | 120 | 284 | 0 | 2 | 160 | 0 | 1.8 | 2 | 0.0 | 3.0 | 1 |\n",
       "| 58 | 1 | 3 | 132 | 224 | 0 | 2 | 173 | 0 | 3.2 | 1 | 2.0 | 7.0 | 3 |\n",
       "| 60 | 1 | 4 | 130 | 206 | 0 | 2 | 132 | 1 | 2.4 | 2 | 2.0 | 7.0 | 4 |\n",
       "| 50 | 0 | 3 | 120 | 219 | 0 | 0 | 158 | 0 | 1.6 | 2 | 0.0 | 3.0 | 0 |\n",
       "| 58 | 0 | 3 | 120 | 340 | 0 | 0 | 172 | 0 | 0.0 | 1 | 0.0 | 3.0 | 0 |\n",
       "| 66 | 0 | 1 | 150 | 226 | 0 | 0 | 114 | 0 | 2.6 | 3 | 0.0 | 3.0 | 0 |\n",
       "| 43 | 1 | 4 | 150 | 247 | 0 | 0 | 171 | 0 | 1.5 | 1 | 0.0 | 3.0 | 0 |\n",
       "| 40 | 1 | 4 | 110 | 167 | 0 | 2 | 114 | 1 | 2.0 | 2 | 0.0 | 7.0 | 3 |\n",
       "| ⋮ | ⋮ | ⋮ | ⋮ | ⋮ | ⋮ | ⋮ | ⋮ | ⋮ | ⋮ | ⋮ | ⋮ | ⋮ | ⋮ |\n",
       "| 71 | 0 | 4 | 112 | 149 | 0 | 0 | 125 | 0 | 1.6 | 2 | 0.0 | 3.0 | 0 |\n",
       "| 59 | 1 | 1 | 134 | 204 | 0 | 0 | 162 | 0 | 0.8 | 1 | 2.0 | 3.0 | 1 |\n",
       "| 64 | 1 | 1 | 170 | 227 | 0 | 2 | 155 | 0 | 0.6 | 2 | 0.0 | 7.0 | 0 |\n",
       "| 66 | 0 | 3 | 146 | 278 | 0 | 2 | 152 | 0 | 0.0 | 2 | 1.0 | 3.0 | 0 |\n",
       "| 39 | 0 | 3 | 138 | 220 | 0 | 0 | 152 | 0 | 0.0 | 2 | 0.0 | 3.0 | 0 |\n",
       "| 57 | 1 | 2 | 154 | 232 | 0 | 2 | 164 | 0 | 0.0 | 1 | 1.0 | 3.0 | 1 |\n",
       "| 58 | 0 | 4 | 130 | 197 | 0 | 0 | 131 | 0 | 0.6 | 2 | 0.0 | 3.0 | 0 |\n",
       "| 57 | 1 | 4 | 110 | 335 | 0 | 0 | 143 | 1 | 3.0 | 2 | 1.0 | 7.0 | 2 |\n",
       "| 47 | 1 | 3 | 130 | 253 | 0 | 0 | 179 | 0 | 0.0 | 1 | 0.0 | 3.0 | 0 |\n",
       "| 55 | 0 | 4 | 128 | 205 | 0 | 1 | 130 | 1 | 2.0 | 2 | 1.0 | 7.0 | 3 |\n",
       "| 35 | 1 | 2 | 122 | 192 | 0 | 0 | 174 | 0 | 0.0 | 1 | 0.0 | 3.0 | 0 |\n",
       "| 61 | 1 | 4 | 148 | 203 | 0 | 0 | 161 | 0 | 0.0 | 1 | 1.0 | 7.0 | 2 |\n",
       "| 58 | 1 | 4 | 114 | 318 | 0 | 1 | 140 | 0 | 4.4 | 3 | 3.0 | 6.0 | 4 |\n",
       "| 58 | 0 | 4 | 170 | 225 | 1 | 2 | 146 | 1 | 2.8 | 2 | 2.0 | 6.0 | 2 |\n",
       "| 58 | 1 | 2 | 125 | 220 | 0 | 0 | 144 | 0 | 0.4 | 2 | NA  | 7.0 | 0 |\n",
       "| 56 | 1 | 2 | 130 | 221 | 0 | 2 | 163 | 0 | 0.0 | 1 | 0.0 | 7.0 | 0 |\n",
       "| 56 | 1 | 2 | 120 | 240 | 0 | 0 | 169 | 0 | 0.0 | 3 | 0.0 | 3.0 | 0 |\n",
       "| 67 | 1 | 3 | 152 | 212 | 0 | 2 | 150 | 0 | 0.8 | 2 | 0.0 | 7.0 | 1 |\n",
       "| 55 | 0 | 2 | 132 | 342 | 0 | 0 | 166 | 0 | 1.2 | 1 | 0.0 | 3.0 | 0 |\n",
       "| 44 | 1 | 4 | 120 | 169 | 0 | 0 | 144 | 1 | 2.8 | 3 | 0.0 | 6.0 | 2 |\n",
       "| 63 | 1 | 4 | 140 | 187 | 0 | 2 | 144 | 1 | 4.0 | 1 | 2.0 | 7.0 | 2 |\n",
       "| 63 | 0 | 4 | 124 | 197 | 0 | 0 | 136 | 1 | 0.0 | 2 | 0.0 | 3.0 | 1 |\n",
       "| 41 | 1 | 2 | 120 | 157 | 0 | 0 | 182 | 0 | 0.0 | 1 | 0.0 | 3.0 | 0 |\n",
       "| 59 | 1 | 4 | 164 | 176 | 1 | 2 |  90 | 0 | 1.0 | 2 | 2.0 | 6.0 | 3 |\n",
       "| 57 | 0 | 4 | 140 | 241 | 0 | 0 | 123 | 1 | 0.2 | 2 | 0.0 | 7.0 | 1 |\n",
       "| 45 | 1 | 1 | 110 | 264 | 0 | 0 | 132 | 0 | 1.2 | 2 | 0.0 | 7.0 | 1 |\n",
       "| 68 | 1 | 4 | 144 | 193 | 1 | 0 | 141 | 0 | 3.4 | 2 | 2.0 | 7.0 | 2 |\n",
       "| 57 | 1 | 4 | 130 | 131 | 0 | 0 | 115 | 1 | 1.2 | 2 | 1.0 | 7.0 | 3 |\n",
       "| 57 | 0 | 2 | 130 | 236 | 0 | 2 | 174 | 0 | 0.0 | 2 | 1.0 | 3.0 | 1 |\n",
       "| 38 | 1 | 3 | 138 | 175 | 0 | 0 | 173 | 0 | 0.0 | 1 | NA  | 3.0 | 0 |\n",
       "\n"
      ],
      "text/plain": [
       "    age sex cp trestbps chol fbs restecg thalach exang oldpeak slope ca  thal\n",
       "1   63  1   1  145      233  1   2       150     0     2.3     3     0.0 6.0 \n",
       "2   67  1   4  160      286  0   2       108     1     1.5     2     3.0 3.0 \n",
       "3   67  1   4  120      229  0   2       129     1     2.6     2     2.0 7.0 \n",
       "4   37  1   3  130      250  0   0       187     0     3.5     3     0.0 3.0 \n",
       "5   41  0   2  130      204  0   2       172     0     1.4     1     0.0 3.0 \n",
       "6   56  1   2  120      236  0   0       178     0     0.8     1     0.0 3.0 \n",
       "7   62  0   4  140      268  0   2       160     0     3.6     3     2.0 3.0 \n",
       "8   57  0   4  120      354  0   0       163     1     0.6     1     0.0 3.0 \n",
       "9   63  1   4  130      254  0   2       147     0     1.4     2     1.0 7.0 \n",
       "10  53  1   4  140      203  1   2       155     1     3.1     3     0.0 7.0 \n",
       "11  57  1   4  140      192  0   0       148     0     0.4     2     0.0 6.0 \n",
       "12  56  0   2  140      294  0   2       153     0     1.3     2     0.0 3.0 \n",
       "13  56  1   3  130      256  1   2       142     1     0.6     2     1.0 6.0 \n",
       "14  44  1   2  120      263  0   0       173     0     0.0     1     0.0 7.0 \n",
       "15  52  1   3  172      199  1   0       162     0     0.5     1     0.0 7.0 \n",
       "16  57  1   3  150      168  0   0       174     0     1.6     1     0.0 3.0 \n",
       "17  48  1   2  110      229  0   0       168     0     1.0     3     0.0 7.0 \n",
       "18  54  1   4  140      239  0   0       160     0     1.2     1     0.0 3.0 \n",
       "19  48  0   3  130      275  0   0       139     0     0.2     1     0.0 3.0 \n",
       "20  49  1   2  130      266  0   0       171     0     0.6     1     0.0 3.0 \n",
       "21  64  1   1  110      211  0   2       144     1     1.8     2     0.0 3.0 \n",
       "22  58  0   1  150      283  1   2       162     0     1.0     1     0.0 3.0 \n",
       "23  58  1   2  120      284  0   2       160     0     1.8     2     0.0 3.0 \n",
       "24  58  1   3  132      224  0   2       173     0     3.2     1     2.0 7.0 \n",
       "25  60  1   4  130      206  0   2       132     1     2.4     2     2.0 7.0 \n",
       "26  50  0   3  120      219  0   0       158     0     1.6     2     0.0 3.0 \n",
       "27  58  0   3  120      340  0   0       172     0     0.0     1     0.0 3.0 \n",
       "28  66  0   1  150      226  0   0       114     0     2.6     3     0.0 3.0 \n",
       "29  43  1   4  150      247  0   0       171     0     1.5     1     0.0 3.0 \n",
       "30  40  1   4  110      167  0   2       114     1     2.0     2     0.0 7.0 \n",
       "⋮   ⋮   ⋮   ⋮  ⋮        ⋮    ⋮   ⋮       ⋮       ⋮     ⋮       ⋮     ⋮   ⋮   \n",
       "274 71  0   4  112      149  0   0       125     0     1.6     2     0.0 3.0 \n",
       "275 59  1   1  134      204  0   0       162     0     0.8     1     2.0 3.0 \n",
       "276 64  1   1  170      227  0   2       155     0     0.6     2     0.0 7.0 \n",
       "277 66  0   3  146      278  0   2       152     0     0.0     2     1.0 3.0 \n",
       "278 39  0   3  138      220  0   0       152     0     0.0     2     0.0 3.0 \n",
       "279 57  1   2  154      232  0   2       164     0     0.0     1     1.0 3.0 \n",
       "280 58  0   4  130      197  0   0       131     0     0.6     2     0.0 3.0 \n",
       "281 57  1   4  110      335  0   0       143     1     3.0     2     1.0 7.0 \n",
       "282 47  1   3  130      253  0   0       179     0     0.0     1     0.0 3.0 \n",
       "283 55  0   4  128      205  0   1       130     1     2.0     2     1.0 7.0 \n",
       "284 35  1   2  122      192  0   0       174     0     0.0     1     0.0 3.0 \n",
       "285 61  1   4  148      203  0   0       161     0     0.0     1     1.0 7.0 \n",
       "286 58  1   4  114      318  0   1       140     0     4.4     3     3.0 6.0 \n",
       "287 58  0   4  170      225  1   2       146     1     2.8     2     2.0 6.0 \n",
       "288 58  1   2  125      220  0   0       144     0     0.4     2     NA  7.0 \n",
       "289 56  1   2  130      221  0   2       163     0     0.0     1     0.0 7.0 \n",
       "290 56  1   2  120      240  0   0       169     0     0.0     3     0.0 3.0 \n",
       "291 67  1   3  152      212  0   2       150     0     0.8     2     0.0 7.0 \n",
       "292 55  0   2  132      342  0   0       166     0     1.2     1     0.0 3.0 \n",
       "293 44  1   4  120      169  0   0       144     1     2.8     3     0.0 6.0 \n",
       "294 63  1   4  140      187  0   2       144     1     4.0     1     2.0 7.0 \n",
       "295 63  0   4  124      197  0   0       136     1     0.0     2     0.0 3.0 \n",
       "296 41  1   2  120      157  0   0       182     0     0.0     1     0.0 3.0 \n",
       "297 59  1   4  164      176  1   2        90     0     1.0     2     2.0 6.0 \n",
       "298 57  0   4  140      241  0   0       123     1     0.2     2     0.0 7.0 \n",
       "299 45  1   1  110      264  0   0       132     0     1.2     2     0.0 7.0 \n",
       "300 68  1   4  144      193  1   0       141     0     3.4     2     2.0 7.0 \n",
       "301 57  1   4  130      131  0   0       115     1     1.2     2     1.0 7.0 \n",
       "302 57  0   2  130      236  0   2       174     0     0.0     2     1.0 3.0 \n",
       "303 38  1   3  138      175  0   0       173     0     0.0     1     NA  3.0 \n",
       "    num\n",
       "1   0  \n",
       "2   2  \n",
       "3   1  \n",
       "4   0  \n",
       "5   0  \n",
       "6   0  \n",
       "7   3  \n",
       "8   0  \n",
       "9   2  \n",
       "10  1  \n",
       "11  0  \n",
       "12  0  \n",
       "13  2  \n",
       "14  0  \n",
       "15  0  \n",
       "16  0  \n",
       "17  1  \n",
       "18  0  \n",
       "19  0  \n",
       "20  0  \n",
       "21  0  \n",
       "22  0  \n",
       "23  1  \n",
       "24  3  \n",
       "25  4  \n",
       "26  0  \n",
       "27  0  \n",
       "28  0  \n",
       "29  0  \n",
       "30  3  \n",
       "⋮   ⋮  \n",
       "274 0  \n",
       "275 1  \n",
       "276 0  \n",
       "277 0  \n",
       "278 0  \n",
       "279 1  \n",
       "280 0  \n",
       "281 2  \n",
       "282 0  \n",
       "283 3  \n",
       "284 0  \n",
       "285 2  \n",
       "286 4  \n",
       "287 2  \n",
       "288 0  \n",
       "289 0  \n",
       "290 0  \n",
       "291 1  \n",
       "292 0  \n",
       "293 2  \n",
       "294 2  \n",
       "295 1  \n",
       "296 0  \n",
       "297 3  \n",
       "298 1  \n",
       "299 1  \n",
       "300 2  \n",
       "301 3  \n",
       "302 1  \n",
       "303 0  "
      ]
     },
     "metadata": {},
     "output_type": "display_data"
    }
   ],
   "source": [
    "cd_mutate[cd_mutate == \"?\"] <- NA\n",
    "cd_mutate"
   ]
  },
  {
   "cell_type": "markdown",
   "id": "8dc71d09-1ff8-4edf-b663-fccbf9de0cea",
   "metadata": {},
   "source": [
    "For this model, we will be using the variables age, sex, chol, restecg, trestbps to predict the cp type. Hence, we should select these columns from the dataset. "
   ]
  },
  {
   "cell_type": "code",
   "execution_count": 5,
   "id": "2304367a-1b5b-4724-981a-76028edb581d",
   "metadata": {},
   "outputs": [],
   "source": [
    "cd_select<-select(cd_mutate, age, sex, chol, restecg,  trestbps, cp)"
   ]
  },
  {
   "cell_type": "markdown",
   "id": "82fe560a-4e1a-4de7-97e0-56c3629f3813",
   "metadata": {},
   "source": [
    "We have cleaned and wrangled the data to give a tidy data frame. We can now proceed to split the data into training and testing sets to conduct exploratory data analysis."
   ]
  },
  {
   "cell_type": "code",
   "execution_count": 6,
   "id": "5da81704-6c4f-4f54-9ee7-62db72744eab",
   "metadata": {},
   "outputs": [],
   "source": [
    "\n",
    "cd_split<-initial_split(cd_select, prop=0.75, strata=cp)\n",
    "cd_training<-training(cd_split)\n",
    "cd_test<-testing(cd_split)\n"
   ]
  },
  {
   "cell_type": "markdown",
   "id": "15f5cb2a-2fa7-4c87-b04f-1a209a5d6e42",
   "metadata": {},
   "source": [
    "We can now calculate the mean for the variables that are not a factor, namely age, trestbps, and chol. The following means are depicted in the table as shown below."
   ]
  },
  {
   "cell_type": "code",
   "execution_count": 7,
   "id": "4b85be3d-7298-441c-bd79-39696b7bd1ae",
   "metadata": {},
   "outputs": [
    {
     "data": {
      "text/html": [
       "<table class=\"dataframe\">\n",
       "<caption>A tibble: 1 × 3</caption>\n",
       "<thead>\n",
       "\t<tr><th scope=col>mean_age</th><th scope=col>mean_trestbps</th><th scope=col>mean_chol</th></tr>\n",
       "\t<tr><th scope=col>&lt;dbl&gt;</th><th scope=col>&lt;dbl&gt;</th><th scope=col>&lt;dbl&gt;</th></tr>\n",
       "</thead>\n",
       "<tbody>\n",
       "\t<tr><td>54.50885</td><td>132.031</td><td>248.2345</td></tr>\n",
       "</tbody>\n",
       "</table>\n"
      ],
      "text/latex": [
       "A tibble: 1 × 3\n",
       "\\begin{tabular}{lll}\n",
       " mean\\_age & mean\\_trestbps & mean\\_chol\\\\\n",
       " <dbl> & <dbl> & <dbl>\\\\\n",
       "\\hline\n",
       "\t 54.50885 & 132.031 & 248.2345\\\\\n",
       "\\end{tabular}\n"
      ],
      "text/markdown": [
       "\n",
       "A tibble: 1 × 3\n",
       "\n",
       "| mean_age &lt;dbl&gt; | mean_trestbps &lt;dbl&gt; | mean_chol &lt;dbl&gt; |\n",
       "|---|---|---|\n",
       "| 54.50885 | 132.031 | 248.2345 |\n",
       "\n"
      ],
      "text/plain": [
       "  mean_age mean_trestbps mean_chol\n",
       "1 54.50885 132.031       248.2345 "
      ]
     },
     "metadata": {},
     "output_type": "display_data"
    }
   ],
   "source": [
    "cd_means<-cd_training|>\n",
    "    summarize(mean_age = mean(age),\n",
    "            mean_trestbps = mean(trestbps),\n",
    "              mean_chol = mean(chol))\n",
    "cd_means            "
   ]
  },
  {
   "cell_type": "markdown",
   "id": "4e6e799c-82d1-416f-81a0-726ca426ddc9",
   "metadata": {},
   "source": [
    "As seen from the table, the average age of 54.5 is quite high. With age, the heart condition deteriorates and may lead to complications. This indicates that the dataset should have high variability."
   ]
  },
  {
   "cell_type": "markdown",
   "id": "a1607f5e-a589-4192-85cb-f6b85290c10d",
   "metadata": {},
   "source": [
    "For the remaining columns which are factors, we can use a plot to visualize the frequencies for each occurence. First, we use the table() function to get a table with the correct counts and then use the as.data.frame function to convert it into a data frame."
   ]
  },
  {
   "cell_type": "code",
   "execution_count": 8,
   "id": "c37ae2b1-ed19-4dc1-9590-4e62edac6c4d",
   "metadata": {},
   "outputs": [
    {
     "data": {
      "image/png": "[encoded data removed]",
      "text/plain": [
       "plot without title"
      ]
     },
     "metadata": {
      "image/png": {
       "height": 420,
       "width": 420
      }
     },
     "output_type": "display_data"
    },
    {
     "data": {
      "image/png": "[encoded data removed]",
      "text/plain": [
       "plot without title"
      ]
     },
     "metadata": {
      "image/png": {
       "height": 420,
       "width": 420
      }
     },
     "output_type": "display_data"
    },
    {
     "data": {
      "image/png": "[encoded data removed]",
      "text/plain": [
       "plot without title"
      ]
     },
     "metadata": {
      "image/png": {
       "height": 420,
       "width": 420
      }
     },
     "output_type": "display_data"
    }
   ],
   "source": [
    "cd_training_sex <- as.data.frame(table(cd_training$sex))\n",
    "cd_training_restecg <- as.data.frame(table(cd_training$restecg)) \n",
    "cd_training_cp <- as.data.frame(table(cd_training$cp))\n",
    "\n",
    "cd_training_plot_sex <- ggplot(cd_training_sex, aes(x = Var1, y = Freq))+\n",
    "                        geom_bar(stat = \"identity\") +\n",
    "                        labs(x = \"Sex(0 = female, 1 = male)\", y = \"Frequency\") +\n",
    "                        theme(text = element_text(size = 20))\n",
    "cd_training_plot_restecg <- ggplot(cd_training_restecg, aes(x = Var1, y = Freq))+\n",
    "                        geom_bar(stat = \"identity\") +\n",
    "                        labs(x = \"RestECG(0 = normal, 1 = ST-T wave abnormality, \n",
    "2 = Left ventricular hypertrophy)\", y = \"Frequency\") +\n",
    "                        theme(text = element_text(size = 20))\n",
    "cd_training_plot_cp <- ggplot(cd_training_cp, aes(x = Var1, y = Freq))+\n",
    "                        geom_bar(stat = \"identity\") +\n",
    "                        labs(x = \"Chest pain type(1 = typical angina, \n",
    "2 = atypical angina, 3 = non-anginal pain, \n",
    "4 = asymptomatic)\", y = \"Frequency\") +\n",
    "                        theme(text = element_text(size = 20))\n",
    "cd_training_plot_sex\n",
    "cd_training_plot_restecg\n",
    "cd_training_plot_cp\n"
   ]
  },
  {
   "cell_type": "markdown",
   "id": "7b74a875-0ed1-4bd1-9fff-8614ab1ed0ab",
   "metadata": {},
   "source": [
    "As seen from the graphs, a couple of things stand out. The data contains a lot of values for males compared to females, and an ST-T Wave abnormality is very rare for a restecg. Additionally, majority of the data values are asymptomatic which could make classifying the chest pain type less accurate."
   ]
  },
  {
   "cell_type": "markdown",
   "id": "9407a1a0-9876-448d-b55e-8c7ce1e42d6d",
   "metadata": {},
   "source": [
    "Expected Outcomes and Significance\n",
    "\n",
    "We hope to develop a model that can predict the chest pain type. Determining the types of chest pain is important because chest pain is often caused by poor blood flow to the heart, which could indicate heart disease and dangers to a life. Different types of chest pain have different potential underlying diagnoses. Follow up questions may include how does chest pain type correlate to testing postive for heart disease? Or even, how do different chest pains indicate the future development of heart conditions?\n",
    "\n",
    "References\n",
    "\n",
    "Detrano, R., Janosi, A., Steinbrunn, W., Pfisterer, M., Schmid, J.-J., Sandhu, S., Guppy, K. H., Lee, S., & Froelicher, V. (1989). International application of a new probability algorithm for the diagnosis of coronary artery disease. The American Journal of Cardiology, 64(5), 304–310. https://doi.org/10.1016/0002-9149(89)90524-9"
   ]
  },
  {
   "cell_type": "code",
   "execution_count": null,
   "id": "4b186028-4385-4b21-b738-a1234a36fb04",
   "metadata": {},
   "outputs": [],
   "source": []
  }
 ],
 "metadata": {
  "kernelspec": {
   "display_name": "R",
   "language": "R",
   "name": "ir"
  },
  "language_info": {
   "codemirror_mode": "r",
   "file_extension": ".r",
   "mimetype": "text/x-r-source",
   "name": "R",
   "pygments_lexer": "r",
   "version": "4.1.3"
  }
 },
 "nbformat": 4,
 "nbformat_minor": 5
}
