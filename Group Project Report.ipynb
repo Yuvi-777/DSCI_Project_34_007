{
 "cells": [
  {
   "cell_type": "markdown",
   "id": "b12b90b1-7f57-46f0-bdca-3960239545ea",
   "metadata": {},
   "source": [
    "# Group Project Report"
   ]
  },
  {
   "cell_type": "markdown",
   "id": "cfc7e755-6761-4ca6-a27e-6553d5b49dec",
   "metadata": {},
   "source": [
    "## Introduction"
   ]
  },
  {
   "cell_type": "markdown",
   "id": "e7795646-135a-41f9-89cd-7126aca46dc2",
   "metadata": {},
   "source": [
    "Heart disease is increasingly common and one of the leading causes of death around the world. As algorithms and modeling become more accessible and sophisticated, they can be used to predict and diagnose heart disease. Here, we will create a simple model using the k-nearest neighbors algorithm to predict the type of chest pain in individuals testing for heart disease. We will investigate how accurately we can predict the type of chest pain with a K-nearest Neighbor model? \n",
    "\n",
    "The dataset we will use is called “processed.cleveland.data” from the Machine Learning Repository. Data was collected between May 1981 and September 1984 and stems from the angiography results of 303 patients at the Cleveland Clinic in Cleveland, Ohio. The average age of study participants was 54 and 206 of the 303 participants were men (“International application of a new probability algorithm”). Similar algorithms have been created like the one described in Detrano et al.’s International Application of a New Probability Algorithm for the Diagnosis of Coronary Artery Disease where the same data set, along with similar ones, trained an algorithm to predict heart disease. \n"
   ]
  },
  {
   "cell_type": "markdown",
   "id": "ddbcff36-9ef6-4916-82a1-27a50e9a5f9a",
   "metadata": {},
   "source": [
    "## Methods and Results"
   ]
  },
  {
   "cell_type": "markdown",
   "id": "56b6ec88-387a-4545-95ce-dbfceaa35301",
   "metadata": {},
   "source": [
    "As mentioned previously, we will develop a model using this dataset to predict the type of chest pain that an individual is experiencing. The potential types of chest pain are typical angina, atypical angina, non-anginal pain, and asymptomatic pain. Our model will use the k-nearest neighbors algorithm and consider age, sex, electrocardiogram rate at rest (restecg), systolic blood pressure (trestbps), and cholesterol (chol) as variables. Age and sex were chosen because women with CHD tend to be older than men with CHD, and test of CHD increases with age in both sexes. By incorporating age and sex, we can better estimate an individual’s likelihood of developing CHD. The electrocardiogram at rest provides information about heart rate, rhythm and potential heart enlargement, making it a useful tool for investigating symptoms. A higher risk of heart disease associated with elevated systolic blood pressure, which damages arteries and impedes blood flow to the heart muscle. Additionally, a high level of serum cholesterol in the blood increases the risk of heart disease by promoting the development of fatty deposits in blood vessels, which can hinder flow through arteries. \n",
    "\n"
   ]
  },
  {
   "cell_type": "markdown",
   "id": "92320eed-573e-439f-878a-66b6612c6285",
   "metadata": {},
   "source": [
    "Let's load the important --- and set a seed so that the project is reproducible."
   ]
  },
  {
   "cell_type": "code",
   "execution_count": 2,
   "id": "5fa0377b-0ba9-4d23-a4e7-cf6ff726f921",
   "metadata": {},
   "outputs": [
    {
     "name": "stderr",
     "output_type": "stream",
     "text": [
      "Warning message in install.packages(\"themis\"):\n",
      "“installation of package ‘themis’ had non-zero exit status”\n",
      "Updating HTML index of packages in '.Library'\n",
      "\n",
      "Making 'packages.html' ...\n",
      " done\n",
      "\n"
     ]
    },
    {
     "ename": "ERROR",
     "evalue": "Error in library(themis): there is no package called ‘themis’\n",
     "output_type": "error",
     "traceback": [
      "Error in library(themis): there is no package called ‘themis’\nTraceback:\n",
      "1. library(themis)"
     ]
    }
   ],
   "source": [
    "\n",
    "\n",
    "library(tidyverse)\n",
    "library(tidymodels)\n",
    "\n",
    "\n",
    "set.seed(777)"
   ]
  },
  {
   "cell_type": "markdown",
   "id": "a040241d-d415-4830-b5a6-1193b58c704e",
   "metadata": {},
   "source": [
    "We need to first read the dataset from the internet. After reading the data, we can rename the columns to make the data more informative. This is done below:"
   ]
  },
  {
   "cell_type": "code",
   "execution_count": null,
   "id": "a8f79208-dcfc-4186-802b-63e2eabd121c",
   "metadata": {},
   "outputs": [],
   "source": [
    "\n",
    "url <- \"https://archive.ics.uci.edu/ml/machine-learning-databases/heart-disease/processed.cleveland.data\"\n",
    "cleveland_data <- read_csv(url, col_names = FALSE)\n",
    "cleveland_data <- rename(cleveland_data,\n",
    "       age = X1, \n",
    "       sex = X2, \n",
    "       cp = X3,\n",
    "       trestbps = X4, \n",
    "       chol = X5, \n",
    "       fbs = X6, \n",
    "       restecg = X7, \n",
    "       thalach = X8, \n",
    "       exang = X9, \n",
    "       oldpeak = X10, \n",
    "       slope = X11, \n",
    "       ca = X12, \n",
    "       thal = X13, \n",
    "       num = X14)\n"
   ]
  },
  {
   "cell_type": "markdown",
   "id": "10375f9f-912a-4ae6-9a92-d812387c65ab",
   "metadata": {},
   "source": [
    "The data is then mutated to convert the columns into the right variable type. For example, since cp(chest pain) is a factor, we can use the as_factor function to convert the column."
   ]
  },
  {
   "cell_type": "code",
   "execution_count": null,
   "id": "6ff4b370-387f-47ce-bd39-4e9fa1076fb2",
   "metadata": {},
   "outputs": [],
   "source": [
    "cd_mutate <- cleveland_data |>\n",
    "mutate(cp = as_factor(cp)) \n",
    "\n"
   ]
  },
  {
   "cell_type": "markdown",
   "id": "0eeb41dc-775b-4281-b960-8437a29441de",
   "metadata": {},
   "source": [
    "The dataset for heart disease contains \"?\" instead of NA values which might be difficult to deal with later on. We can replace all the \"?\" to NA as shown below."
   ]
  },
  {
   "cell_type": "code",
   "execution_count": null,
   "id": "96285fa3-61ca-48ea-ab71-0296fa3d069f",
   "metadata": {},
   "outputs": [],
   "source": [
    "cd_mutate[cd_mutate == \"?\"] <- NA\n",
    "cd_mutate"
   ]
  },
  {
   "cell_type": "markdown",
   "id": "c5ea474b-d51c-4dba-aab7-d918b506422b",
   "metadata": {},
   "source": [
    "For this model, we will be using the variables age, sex, chol, restecg, trestbps to predict the cp type. Hence, we should select these columns from the dataset. "
   ]
  },
  {
   "cell_type": "code",
   "execution_count": null,
   "id": "e3a3a345-fb93-4f5e-89d7-0043485c102d",
   "metadata": {},
   "outputs": [],
   "source": [
    "cd_select<-select(cd_mutate, age, sex, chol, restecg,  trestbps, cp)"
   ]
  },
  {
   "cell_type": "markdown",
   "id": "cec0731b-f994-44d3-bb77-342d9bee4ffa",
   "metadata": {},
   "source": [
    "We have cleaned and wrangled the data to give a tidy data frame. We can now proceed to split the data into training and testing sets to conduct the analysis."
   ]
  },
  {
   "cell_type": "code",
   "execution_count": null,
   "id": "50644a10-ca6a-4f3b-b491-6f7774d1fec3",
   "metadata": {},
   "outputs": [],
   "source": [
    "\n",
    "cd_split<-initial_split(cd_select, prop=0.75, strata=cp)\n",
    "cd_training<-training(cd_split)\n",
    "cd_test<-testing(cd_split)\n"
   ]
  },
  {
   "cell_type": "markdown",
   "id": "85ccbd7d-6933-45d0-aa42-efe1ec9f6826",
   "metadata": {},
   "source": [
    "Let's begin with choosing a K value"
   ]
  },
  {
   "cell_type": "code",
   "execution_count": 3,
   "id": "d688e00a-ae26-4e9f-9d89-87dc0775d216",
   "metadata": {},
   "outputs": [
    {
     "name": "stderr",
     "output_type": "stream",
     "text": [
      "Warning message in install.packages(\"themis\"):\n",
      "“installation of package ‘themis’ had non-zero exit status”\n",
      "Updating HTML index of packages in '.Library'\n",
      "\n",
      "Making 'packages.html' ...\n",
      " done\n",
      "\n"
     ]
    },
    {
     "ename": "ERROR",
     "evalue": "Error in library(themis): there is no package called ‘themis’\n",
     "output_type": "error",
     "traceback": [
      "Error in library(themis): there is no package called ‘themis’\nTraceback:\n",
      "1. library(themis)"
     ]
    }
   ],
   "source": [
    "#install.packages(\"themis\")\n",
    "#library(themis)\n",
    "\n",
    "options(repr.plot.height = 5, repr.plot.width = 6)\n",
    "#upsampled_recipe <- recipe(cd ~ ., data = cd_training) |>\n",
    "  #step_upsample(cd, over_ratio = 1, skip = FALSE) |>\n",
    "  #prep()\n",
    "\n",
    "upsampled_cd_training <- bake(upsampled_recipe, cd_training)\n",
    "\n",
    "\n",
    "cd_recipe <- recipe(cp ~ ., data = upsampled_cd_training)|>\n",
    "            step_scale(all_predictors())|>\n",
    "            step_center(all_predictors()) \n",
    "           \n",
    "\n",
    "cd_vfold <- vfold_cv(cd_training, v = 10, strata = cp)\n",
    "\n",
    "knn_tune <- nearest_neighbor(weight_func = \"rectangular\", neighbors = tune()) |>\n",
    "      set_engine(\"kknn\") |>\n",
    "      set_mode(\"classification\")\n",
    "\n",
    "k = tibble(neighbors = seq(2,50,5))\n",
    "\n",
    "knn_results <- workflow() |>\n",
    "      add_recipe(cd_recipe) |>\n",
    "      add_model(knn_tune) |>\n",
    "      tune_grid(resamples = cd_vfold, grid = k) |>\n",
    "      collect_metrics()\n",
    "\n",
    "accuracies <- knn_results |> \n",
    "      filter(.metric == \"accuracy\")\n",
    "\n",
    "cross_val_plot <- ggplot(accuracies, aes(x = neighbors, y = mean))+\n",
    "      geom_point() +\n",
    "      geom_line() +\n",
    "      labs(x = \"Neighbors\", y = \"Accuracy Estimate\") +\n",
    "      scale_x_continuous(breaks = seq(1, 50, by = 5)) +  # adjusting the x-axis\n",
    "      scale_y_continuous(limits = c(0.4, 1.0)) # adjusting the y-axis\n",
    "\n",
    "\n",
    "cross_val_plot"
   ]
  },
  {
   "cell_type": "markdown",
   "id": "699003bc-4516-4ce9-9bcb-95c86f1a343e",
   "metadata": {},
   "source": [
    "## References"
   ]
  }
 ],
 "metadata": {
  "kernelspec": {
   "display_name": "R",
   "language": "R",
   "name": "ir"
  },
  "language_info": {
   "codemirror_mode": "r",
   "file_extension": ".r",
   "mimetype": "text/x-r-source",
   "name": "R",
   "pygments_lexer": "r",
   "version": "4.1.3"
  }
 },
 "nbformat": 4,
 "nbformat_minor": 5
}
