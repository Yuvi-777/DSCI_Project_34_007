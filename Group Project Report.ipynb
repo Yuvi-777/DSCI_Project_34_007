{
 "cells": [
  {
   "cell_type": "markdown",
   "id": "b12b90b1-7f57-46f0-bdca-3960239545ea",
   "metadata": {},
   "source": [
    "Group Project Report"
   ]
  }
 ],
 "metadata": {
  "kernelspec": {
   "display_name": "R",
   "language": "R",
   "name": "ir"
  },
  "language_info": {
   "codemirror_mode": "r",
   "file_extension": ".r",
   "mimetype": "text/x-r-source",
   "name": "R",
   "pygments_lexer": "r",
   "version": "4.1.3"
  }
 },
 "nbformat": 4,
 "nbformat_minor": 5
}
